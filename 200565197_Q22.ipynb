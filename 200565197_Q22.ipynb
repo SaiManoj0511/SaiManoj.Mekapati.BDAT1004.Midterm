{
 "cells": [
  {
   "cell_type": "code",
   "execution_count": 2,
   "id": "f800a999",
   "metadata": {},
   "outputs": [
    {
     "name": "stdout",
     "output_type": "stream",
     "text": [
      "(2,)\n",
      "(4,)\n"
     ]
    }
   ],
   "source": [
    "import sqlite3\n",
    "\n",
    "conn = sqlite3.connect('mid_term_200565197_SaiManoj_M.db')  \n",
    "\n",
    "cursor = conn.cursor()\n",
    "\n",
    "Query_Table_Creation = '''\n",
    "CREATE TABLE Weather_Table (\n",
    "    id INT PRIMARY KEY,\n",
    "    recordDate DATE,\n",
    "    temperature INT\n",
    ");\n",
    "'''\n",
    "\n",
    "Query_Insertion = [\n",
    "    \"INSERT INTO Weather_Table VALUES (1, '2015-01-01', 10);\",\n",
    "    \"INSERT INTO Weather_Table VALUES (2, '2015-01-02', 25);\",\n",
    "    \"INSERT INTO Weather_Table VALUES (3, '2015-01-03', 20);\",\n",
    "    \"INSERT INTO Weather_Table VALUES (4, '2015-01-04', 30);\"\n",
    "]\n",
    "\n",
    "Query_Selection = '''\n",
    "SELECT t1.id\n",
    "FROM Weather_Table t1\n",
    "JOIN Weather_Table t2 ON t1.id = t2.id + 1\n",
    "WHERE t1.temperature > t2.temperature;\n",
    "'''\n",
    "\n",
    "cursor.executescript(Query_Table_Creation)\n",
    "for Query_Insertion in Query_Insertion:\n",
    "    cursor.execute(Query_Insertion)\n",
    "\n",
    "\n",
    "cursor.execute(Query_Selection)\n",
    "results = cursor.fetchall()\n",
    "\n",
    "\n",
    "for row in results:\n",
    "    print(row)\n",
    "\n",
    "conn.commit()\n",
    "conn.close()"
   ]
  },
  {
   "cell_type": "code",
   "execution_count": null,
   "id": "cf9ae17e",
   "metadata": {},
   "outputs": [],
   "source": []
  }
 ],
 "metadata": {
  "kernelspec": {
   "display_name": "Python 3 (ipykernel)",
   "language": "python",
   "name": "python3"
  },
  "language_info": {
   "codemirror_mode": {
    "name": "ipython",
    "version": 3
   },
   "file_extension": ".py",
   "mimetype": "text/x-python",
   "name": "python",
   "nbconvert_exporter": "python",
   "pygments_lexer": "ipython3",
   "version": "3.11.4"
  }
 },
 "nbformat": 4,
 "nbformat_minor": 5
}
