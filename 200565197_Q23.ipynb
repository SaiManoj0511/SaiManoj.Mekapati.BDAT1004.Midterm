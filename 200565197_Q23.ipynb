{
 "cells": [
  {
   "cell_type": "code",
   "execution_count": 3,
   "id": "7a721730",
   "metadata": {},
   "outputs": [
    {
     "name": "stdout",
     "output_type": "stream",
     "text": [
      "-----\n",
      "-----\n",
      "*\n",
      "-----\n",
      "*\n",
      "**\n",
      " *\n",
      "-----\n",
      "*\n",
      "**\n",
      " *\n",
      "***\n",
      "  *\n",
      "  **\n",
      "   *\n",
      "****\n",
      "   *\n",
      "   **\n",
      "    *\n",
      "   ***\n",
      "     *\n",
      "     **\n",
      "      *\n"
     ]
    }
   ],
   "source": [
    "def tough(indentation, pattern_length):\n",
    "    if pattern_length == 0:\n",
    "        return\n",
    "    else:\n",
    "        tough(indentation, pattern_length - 1)\n",
    "        print(' ' * indentation + '*' * pattern_length)\n",
    "        if pattern_length > 1:\n",
    "            tough(indentation + pattern_length - 1, pattern_length - 1)\n",
    "\n",
    "print(\"-----\")\n",
    "tough(0, 0)\n",
    "print(\"-----\")\n",
    "tough(0, 1)\n",
    "print(\"-----\")\n",
    "tough(0, 2)\n",
    "print(\"-----\")\n",
    "tough(0, 4)"
   ]
  },
  {
   "cell_type": "code",
   "execution_count": null,
   "id": "d5fbd185",
   "metadata": {},
   "outputs": [],
   "source": []
  }
 ],
 "metadata": {
  "kernelspec": {
   "display_name": "Python 3 (ipykernel)",
   "language": "python",
   "name": "python3"
  },
  "language_info": {
   "codemirror_mode": {
    "name": "ipython",
    "version": 3
   },
   "file_extension": ".py",
   "mimetype": "text/x-python",
   "name": "python",
   "nbconvert_exporter": "python",
   "pygments_lexer": "ipython3",
   "version": "3.11.4"
  }
 },
 "nbformat": 4,
 "nbformat_minor": 5
}
